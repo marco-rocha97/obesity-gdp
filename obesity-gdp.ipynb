{
 "cells": [
  {
   "cell_type": "markdown",
   "id": "motivated-olympus",
   "metadata": {},
   "source": [
    "Dataset Links:\n",
    "1. [Obesity Among Adults by Country (1975-2016)](https://www.kaggle.com/amanarora/obesity-among-adults-by-country-19752016/)\n",
    "2. [GDP per Person (1901-2011)](https://www.kaggle.com/divyansh22/gdp-per-person-19012011?select=GDP.csv)"
   ]
  },
  {
   "cell_type": "markdown",
   "id": "c4ede180",
   "metadata": {},
   "source": [
    "### 0. Import libraries"
   ]
  },
  {
   "cell_type": "code",
   "execution_count": null,
   "id": "million-survival",
   "metadata": {},
   "outputs": [],
   "source": [
    "import pandas as pd\n",
    "import numpy as np\n",
    "import matplotlib.pyplot as plt\n",
    "import plotly.express as px"
   ]
  },
  {
   "cell_type": "markdown",
   "id": "becoming-princeton",
   "metadata": {},
   "source": [
    "### 1. Obesity Among Adults by Country (1975-2016)"
   ]
  },
  {
   "cell_type": "markdown",
   "id": "377dc7fb",
   "metadata": {},
   "source": [
    "#### Uploading data file"
   ]
  },
  {
   "cell_type": "code",
   "execution_count": null,
   "id": "formal-heater",
   "metadata": {},
   "outputs": [],
   "source": [
    "df_obesity = pd.read_csv(\"obesity_cleaned.csv\", index_col=0)\n",
    "df_obesity"
   ]
  },
  {
   "cell_type": "markdown",
   "id": "28356a49",
   "metadata": {},
   "source": [
    "#### Understanding data type"
   ]
  },
  {
   "cell_type": "code",
   "execution_count": null,
   "id": "29a78629",
   "metadata": {},
   "outputs": [],
   "source": [
    "df_obesity.info()"
   ]
  },
  {
   "cell_type": "markdown",
   "id": "8cc52c2e",
   "metadata": {},
   "source": [
    "Obesity should appear as float, but it's Dtype object (str)"
   ]
  },
  {
   "cell_type": "markdown",
   "id": "52d6ca74",
   "metadata": {},
   "source": [
    "#### Cleaning data and formatting correctly"
   ]
  },
  {
   "cell_type": "code",
   "execution_count": null,
   "id": "0f01364f",
   "metadata": {},
   "outputs": [],
   "source": [
    "df_obesity['Obesity (%)'].value_counts()"
   ]
  },
  {
   "cell_type": "code",
   "execution_count": null,
   "id": "2155e584",
   "metadata": {},
   "outputs": [],
   "source": [
    "df_obesity['Obesity'] = df_obesity['Obesity (%)'].apply(lambda x: x.split()[0])\n",
    "\n",
    "df_obesity.loc[df_obesity['Obesity'] == 'No', 'Obesity'] = np.nan\n",
    "df_obesity = df_obesity.dropna()\n",
    "display(df_obesity['Obesity'].value_counts())"
   ]
  },
  {
   "cell_type": "code",
   "execution_count": null,
   "id": "2623a4a6",
   "metadata": {},
   "outputs": [],
   "source": [
    "df_obesity['Obesity'] = df_obesity.loc[:, 'Obesity'].apply(lambda x: float(x))\n",
    "df_obesity.info()"
   ]
  },
  {
   "cell_type": "code",
   "execution_count": null,
   "id": "da11dde9",
   "metadata": {},
   "outputs": [],
   "source": [
    "df_obesity.set_index('Year', inplace=True)"
   ]
  },
  {
   "cell_type": "markdown",
   "id": "57e01041",
   "metadata": {},
   "source": [
    "#### Exploring data"
   ]
  },
  {
   "cell_type": "markdown",
   "id": "voluntary-temperature",
   "metadata": {},
   "source": [
    "- What was the average percentage of obesity by sex in the world in 2015?"
   ]
  },
  {
   "cell_type": "code",
   "execution_count": null,
   "id": "afraid-reminder",
   "metadata": {},
   "outputs": [],
   "source": [
    "df = df_obesity[['Sex', 'Obesity']]\n",
    "df = df[df.index == 2015]\n",
    "df.groupby('Sex').mean()"
   ]
  },
  {
   "cell_type": "markdown",
   "id": "expected-kruger",
   "metadata": {},
   "source": [
    "- Which are the 5 countries with the highest and lowest rate of increase in obesity rates over the observed period?"
   ]
  },
  {
   "cell_type": "code",
   "execution_count": null,
   "id": "a149300f",
   "metadata": {},
   "outputs": [],
   "source": [
    "df_start = df_obesity[df_obesity.index == 1975]\n",
    "df_start.set_index('Country', inplace=True)\n",
    "\n",
    "df_end = df_obesity[df_obesity.index == 2016]\n",
    "df_end.set_index('Country', inplace=True)"
   ]
  },
  {
   "cell_type": "code",
   "execution_count": null,
   "id": "d012087b",
   "metadata": {},
   "outputs": [],
   "source": [
    "df_ev = df_end[df_end['Sex'] == 'Both sexes']['Obesity']  - df_start[df_start['Sex'] == 'Both sexes']['Obesity']\n",
    "df_ev.sort_values().dropna().head(5)"
   ]
  },
  {
   "cell_type": "code",
   "execution_count": null,
   "id": "42246876",
   "metadata": {},
   "outputs": [],
   "source": [
    "df_ev.sort_values().dropna().tail(5)"
   ]
  },
  {
   "cell_type": "markdown",
   "id": "efficient-buyer",
   "metadata": {},
   "source": [
    "- Which countries had the highest and lowest percentages of obesity in 2015?"
   ]
  },
  {
   "cell_type": "code",
   "execution_count": null,
   "id": "violent-warren",
   "metadata": {},
   "outputs": [],
   "source": [
    "df = df_obesity[df_obesity.index == 2015]\n",
    "df = df[['Country', 'Obesity']]\n",
    "df.groupby('Country').mean().sort_values('Obesity', ascending=False)"
   ]
  },
  {
   "cell_type": "code",
   "execution_count": null,
   "id": "1b6b0a9f",
   "metadata": {},
   "outputs": [],
   "source": [
    "df.groupby('Country').mean().sort_values('Obesity')"
   ]
  },
  {
   "cell_type": "markdown",
   "id": "average-holiday",
   "metadata": {},
   "source": [
    "- What is the average percentage difference in obesity between the sexes over the years in Brazil?"
   ]
  },
  {
   "cell_type": "code",
   "execution_count": null,
   "id": "later-occurrence",
   "metadata": {},
   "outputs": [],
   "source": [
    "df = df_obesity[df_obesity['Country'] == 'Brazil']\n",
    "df_diff = df[df['Sex'] == 'Female']['Obesity'] - df[df['Sex'] == 'Male']['Obesity']\n",
    "df_diff.plot()"
   ]
  },
  {
   "cell_type": "markdown",
   "id": "rising-exhaust",
   "metadata": {},
   "source": [
    "- Plot a graph showing the evolution of obesity for both sexes in the world"
   ]
  },
  {
   "cell_type": "code",
   "execution_count": null,
   "id": "senior-recruitment",
   "metadata": {},
   "outputs": [],
   "source": [
    "df = df_obesity[df_obesity['Sex'] == 'Both sexes']\n",
    "df.groupby('Year')['Obesity'].mean().plot()"
   ]
  },
  {
   "cell_type": "markdown",
   "id": "labeled-rainbow",
   "metadata": {},
   "source": [
    "### 2. GDP per Person (1901-2011)"
   ]
  },
  {
   "cell_type": "markdown",
   "id": "13b7c93f",
   "metadata": {},
   "source": [
    "#### Uploading data file"
   ]
  },
  {
   "cell_type": "code",
   "execution_count": null,
   "id": "thermal-breeding",
   "metadata": {},
   "outputs": [],
   "source": [
    "df_gdp = pd.read_csv(\"GDP.csv\", thousands=\",\", decimal=\".\")\n",
    "df_gdp"
   ]
  },
  {
   "cell_type": "markdown",
   "id": "536ee72f",
   "metadata": {},
   "source": [
    "#### Understanding data type"
   ]
  },
  {
   "cell_type": "code",
   "execution_count": null,
   "id": "1b098852",
   "metadata": {},
   "outputs": [],
   "source": [
    "df_gdp.info()"
   ]
  },
  {
   "cell_type": "markdown",
   "id": "46f707eb",
   "metadata": {},
   "source": [
    "Year should appear as int, but it's Dtype object (str)"
   ]
  },
  {
   "cell_type": "markdown",
   "id": "suffering-guitar",
   "metadata": {},
   "source": [
    "#### Cleaning data and formatting correctly"
   ]
  },
  {
   "cell_type": "code",
   "execution_count": null,
   "id": "1e564179",
   "metadata": {},
   "outputs": [],
   "source": [
    "df_gdp['Year'] = pd.to_datetime(df_gdp['Year']).dt.year\n",
    "df_gdp"
   ]
  },
  {
   "cell_type": "code",
   "execution_count": null,
   "id": "fundamental-occasions",
   "metadata": {},
   "outputs": [],
   "source": [
    "df_gdp.info()"
   ]
  },
  {
   "cell_type": "markdown",
   "id": "b63748a7",
   "metadata": {},
   "source": [
    "#### Exploring data"
   ]
  },
  {
   "cell_type": "markdown",
   "id": "studied-validity",
   "metadata": {},
   "source": [
    "- What is the first value recorded for each country?"
   ]
  },
  {
   "cell_type": "code",
   "execution_count": null,
   "id": "frequent-rental",
   "metadata": {},
   "outputs": [],
   "source": [
    "df_gdp.sort_values(['Year', 'Country']).drop_duplicates(subset='Country')[['Country', ' GDP_pp ']]"
   ]
  },
  {
   "cell_type": "markdown",
   "id": "tutorial-softball",
   "metadata": {},
   "source": [
    "- Name the regions with the highest growth in GDP per capita in the last century."
   ]
  },
  {
   "cell_type": "code",
   "execution_count": null,
   "id": "c1f315ff",
   "metadata": {},
   "outputs": [],
   "source": [
    "df_gdp[df_gdp['Year'] < 2000].max()"
   ]
  },
  {
   "cell_type": "code",
   "execution_count": null,
   "id": "given-colorado",
   "metadata": {},
   "outputs": [],
   "source": [
    "df_start = df_gdp[df_gdp['Year'] == 1901]\n",
    "df_end = df_gdp[df_gdp['Year'] == 1996]"
   ]
  },
  {
   "cell_type": "code",
   "execution_count": null,
   "id": "63dfe5b9",
   "metadata": {},
   "outputs": [],
   "source": [
    "(((df_end.groupby('Region')[' GDP_pp '].mean() / df_start.groupby('Region')[' GDP_pp '].mean()) - 1)*100).sort_values()"
   ]
  },
  {
   "cell_type": "markdown",
   "id": "textile-afternoon",
   "metadata": {},
   "source": [
    "- Fill in the missing years in each country with an estimate, based on the difference between the next record and the previous one."
   ]
  },
  {
   "cell_type": "code",
   "execution_count": null,
   "id": "680e938b",
   "metadata": {},
   "outputs": [],
   "source": [
    "df_gdp"
   ]
  },
  {
   "cell_type": "code",
   "execution_count": null,
   "id": "hydraulic-confidentiality",
   "metadata": {},
   "outputs": [],
   "source": [
    "arr_year = np.arange(df_gdp['Year'].min(), df_gdp['Year'].max())\n",
    "df_all_years = pd.DataFrame(arr_year, columns=['Year'])\n",
    "df_all_years.index = df_all_years['Year']\n",
    "df_all_years"
   ]
  },
  {
   "cell_type": "code",
   "execution_count": null,
   "id": "23940200",
   "metadata": {},
   "outputs": [],
   "source": [
    "df_years_off = ~df_all_years['Year'].isin(df_gdp['Year'])\n",
    "df_years_off"
   ]
  },
  {
   "cell_type": "code",
   "execution_count": null,
   "id": "dd4a3968",
   "metadata": {},
   "outputs": [],
   "source": [
    "df_years_off = df_all_years.loc[df_years_off].index\n",
    "df_years_off"
   ]
  },
  {
   "cell_type": "code",
   "execution_count": null,
   "id": "b6147629",
   "metadata": {},
   "outputs": [],
   "source": [
    "df_gdp = df_gdp.sort_values(['Country', 'Year'])\n",
    "\n",
    "df_gdp['Delta_gdp'] = df_gdp[' GDP_pp '] - df_gdp[' GDP_pp '].shift(1)\n",
    "df_gdp['Delta_year'] = df_gdp['Year'] - df_gdp['Year'].shift(1)\n",
    "\n",
    "df_gdp['gdp_year'] = (df_gdp['Delta_gdp']/df_gdp['Delta_year']).shift(-1)\n",
    "\n",
    "df_gdp"
   ]
  },
  {
   "cell_type": "code",
   "execution_count": null,
   "id": "9ef39e44",
   "metadata": {},
   "outputs": [],
   "source": [
    "df_gdp['next_year'] = df_gdp['Year'].shift(-1)\n",
    "del df_gdp['Delta_gdp'], df_gdp['Delta_year']\n",
    "\n",
    "df_gdp"
   ]
  },
  {
   "cell_type": "code",
   "execution_count": null,
   "id": "1cc61add",
   "metadata": {},
   "outputs": [],
   "source": [
    "df_new_data = pd.DataFrame()\n",
    "\n",
    "for idx, row in df_gdp.iterrows():\n",
    "    if row['Year'] == 2011:\n",
    "        continue\n",
    "\n",
    "    years_to_add = df_years_off[(df_years_off > row['Year']) & (df_years_off < row['next_year'])]\n",
    "    \n",
    "    for new_year in years_to_add:\n",
    "        add_row = row.copy()\n",
    "        add_row[' GDP_pp '] = (new_year - add_row['Year']) * add_row['gdp_year'] + add_row[' GDP_pp ']\n",
    "        add_row['Year'] = new_year\n",
    "        add_row['kind'] = 'estimated'\n",
    "        df_new_data = pd.concat([df_new_data, add_row.to_frame().transpose()])\n",
    "\n",
    "df_new_data"
   ]
  },
  {
   "cell_type": "code",
   "execution_count": null,
   "id": "894ff0d7",
   "metadata": {},
   "outputs": [],
   "source": [
    "df_gdp = pd.concat([df_gdp, df_new_data])\n",
    "df_gdp.sort_values(['Country', 'Year'], inplace=True)\n",
    "df_gdp.index = df_gdp['Year']\n",
    "df_gdp['kind'].fillna('real', inplace=True)\n",
    "df_gdp"
   ]
  },
  {
   "cell_type": "markdown",
   "id": "a33d7edf",
   "metadata": {},
   "source": [
    "- Checking if the estimate is consistent"
   ]
  },
  {
   "cell_type": "code",
   "execution_count": null,
   "id": "58288aae",
   "metadata": {},
   "outputs": [],
   "source": [
    "fig, ax = plt.subplots(figsize=(20, 5))\n",
    "\n",
    "country = 'Brazil'\n",
    "df_gdp[(df_gdp['kind'] == 'real') & (df_gdp['Country'] == country)].plot(kind='scatter', y=' GDP_pp ', x='Year', ax=ax)\n",
    "df_gdp[(df_gdp['kind'] == 'estimated') & (df_gdp['Country'] == country)].plot(kind='scatter', y=' GDP_pp ', x='Year', ax=ax, color = 'orange')"
   ]
  },
  {
   "cell_type": "markdown",
   "id": "revised-helicopter",
   "metadata": {},
   "source": [
    "### 3. Comparing Both Datasets"
   ]
  },
  {
   "cell_type": "markdown",
   "id": "99bdeeef",
   "metadata": {},
   "source": [
    "- Create a map of GDP or obesity in the world over the years"
   ]
  },
  {
   "cell_type": "code",
   "execution_count": null,
   "id": "advised-sample",
   "metadata": {},
   "outputs": [],
   "source": [
    "df_gdp['Year'] = df_gdp['Year'].astype(int)\n",
    "df_gdp[' GDP_pp '] = df_gdp[' GDP_pp '].astype(float)"
   ]
  },
  {
   "cell_type": "code",
   "execution_count": null,
   "id": "2f5af946",
   "metadata": {},
   "outputs": [],
   "source": [
    "df = px.data.gapminder()\n",
    "df"
   ]
  },
  {
   "cell_type": "code",
   "execution_count": null,
   "id": "23d82124",
   "metadata": {},
   "outputs": [],
   "source": [
    "dict_iso_alpha = df.set_index('country').to_dict()['iso_alpha']\n",
    "dict_iso_alpha"
   ]
  },
  {
   "cell_type": "code",
   "execution_count": null,
   "id": "41a08ea5",
   "metadata": {},
   "outputs": [],
   "source": [
    "dict_num = {j: i for i, j in enumerate(df_gdp['Country'].unique())}\n",
    "dict_num"
   ]
  },
  {
   "cell_type": "code",
   "execution_count": null,
   "id": "214cce5d",
   "metadata": {},
   "outputs": [],
   "source": [
    "df_gdp['iso_alpha'] = df_gdp['Country'].map(dict_iso_alpha)\n",
    "df_gdp['iso_num'] = df_gdp['Country'].map(dict_num)\n",
    "df_gdp"
   ]
  },
  {
   "cell_type": "code",
   "execution_count": null,
   "id": "3ca930a0",
   "metadata": {},
   "outputs": [],
   "source": [
    "fig = px.choropleth(\n",
    "    df_gdp[df_gdp['kind'] == 'real'].reset_index(drop=True), \n",
    "    locations='iso_alpha', \n",
    "    color=' GDP_pp ', \n",
    "    hover_name='Country', \n",
    "    animation_frame='Year'\n",
    ")\n",
    "fig.update_layout(height=600)\n",
    "fig.show()"
   ]
  },
  {
   "cell_type": "markdown",
   "id": "lesbian-flight",
   "metadata": {},
   "source": [
    "- Is there a relationship between obesity levels and GDP per capita?"
   ]
  },
  {
   "cell_type": "code",
   "execution_count": null,
   "id": "fluid-enemy",
   "metadata": {},
   "outputs": [],
   "source": [
    "df_obesity['country-year'] = df_obesity['Country'] + '-' + df_obesity.reset_index()['Year'].apply(lambda x: str(int(x))).values\n",
    "dict_obesity_year = df_obesity.set_index('country-year').to_dict()['Obesity']\n",
    "dict_obesity_year"
   ]
  },
  {
   "cell_type": "code",
   "execution_count": null,
   "id": "a0bf2dfe",
   "metadata": {},
   "outputs": [],
   "source": [
    "df_gdp['country-year'] = df_gdp['Country'] + '-' + df_gdp['Year'].apply(lambda x: str(int(x))).values\n",
    "dict_gdp_year = df_gdp.set_index('country-year').to_dict()[' GDP_pp ']\n",
    "dict_gdp_year"
   ]
  },
  {
   "cell_type": "code",
   "execution_count": null,
   "id": "6d1293f8",
   "metadata": {},
   "outputs": [],
   "source": [
    "df_gdp['obesity'] = df_gdp['country-year'].map(dict_obesity_year)\n",
    "df_gdp"
   ]
  },
  {
   "cell_type": "code",
   "execution_count": null,
   "id": "e0bf1371",
   "metadata": {},
   "outputs": [],
   "source": [
    "df_gdp_clean = df_gdp.dropna()\n",
    "df_gdp_clean"
   ]
  },
  {
   "cell_type": "code",
   "execution_count": null,
   "id": "0ad69a8f",
   "metadata": {},
   "outputs": [],
   "source": [
    "df_gdp_clean.reset_index(drop=True).groupby('Year')[['obesity', ' GDP_pp ']].mean().corr()"
   ]
  }
 ],
 "metadata": {
  "kernelspec": {
   "display_name": "Python 3",
   "language": "python",
   "name": "python3"
  },
  "language_info": {
   "codemirror_mode": {
    "name": "ipython",
    "version": 3
   },
   "file_extension": ".py",
   "mimetype": "text/x-python",
   "name": "python",
   "nbconvert_exporter": "python",
   "pygments_lexer": "ipython3",
   "version": "3.11.5"
  }
 },
 "nbformat": 4,
 "nbformat_minor": 5
}
